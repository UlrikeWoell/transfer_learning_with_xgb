{
 "cells": [
  {
   "cell_type": "code",
   "execution_count": 3,
   "metadata": {},
   "outputs": [],
   "source": [
    "import numpy as np\n",
    "from random import uniform"
   ]
  },
  {
   "cell_type": "code",
   "execution_count": 7,
   "metadata": {},
   "outputs": [
    {
     "name": "stdout",
     "output_type": "stream",
     "text": [
      "{'a': 'str', 'p': {'x': 0, 'y': 89}, 'b': {'b1': 'dsaffdf', 'b2': [1, 3, 5]}, 'c': [12, 12, 23, 45]}\n"
     ]
    }
   ],
   "source": [
    "import csv\n",
    "from dataclasses import dataclass, asdict, field\n",
    "\n",
    "@dataclass\n",
    "class Point():\n",
    "    x: float\n",
    "    y: float\n",
    "\n",
    "@dataclass\n",
    "class XYZ():\n",
    "    a: str\n",
    "    p: Point\n",
    "    b: dict = field(default_factory=dict)\n",
    "    c: list=field(default_factory=list)\n",
    "\n",
    "\n",
    "\n",
    "\n",
    "a = 'str'\n",
    "b = {'b1':'dsaffdf',\n",
    "        'b2': [1,3,5]}\n",
    "c = [12,12,23,45]\n",
    "p = Point(0,89)\n",
    "\n",
    "xyz_dataclass = XYZ(a=a,b=b,c=c,p=p)\n",
    "xyz_dict = asdict(xyz_dataclass)\n",
    "print(xyz_dict)"
   ]
  },
  {
   "cell_type": "code",
   "execution_count": 14,
   "metadata": {},
   "outputs": [],
   "source": [
    "import csv\n",
    "from typing import Any, Dict, Union, TypeVar\n",
    "\n",
    "def flatten_dict(data: Dict[str, Union[Dict[str, Any], Any]], parent_key: str = '', sep: str = '_') -> Dict[str, Any]:\n",
    "    flattened_dict: Dict[str, Any] = {}\n",
    "    for key, value in data.items():\n",
    "        new_key = f\"{parent_key}{sep}{key}\" if parent_key else key\n",
    "        if isinstance(value, dict):\n",
    "            flattened_dict.update(flatten_dict(value, new_key, sep=sep))\n",
    "        else:\n",
    "            flattened_dict[new_key] = value\n",
    "    return flattened_dict\n",
    "\n",
    "def write_dict_to_csv(data: Dict[str, Union[Dict[str, Any], Any]], file_path: str) -> None:\n",
    "    flattened_data = flatten_dict(data)\n",
    "    keys = flattened_data.keys()\n",
    "    with open(file_path, 'a', newline='') as csvfile:\n",
    "        writer = csv.DictWriter(csvfile, fieldnames=keys)\n",
    "        if csvfile.tell() == 0:\n",
    "            writer.writeheader()\n",
    "        writer.writerow(flattened_data)\n",
    "\n",
    "\n",
    "def write_dataclass_to_csv(data: object, file_path:str)-> None:\n",
    "    datadict = asdict(data)\n",
    "    write_dict_to_csv(datadict,file_path=file_path)\n",
    "\n",
    "write_dataclass_to_csv(xyz_dataclass, file_path='data.csv')"
   ]
  }
 ],
 "metadata": {
  "kernelspec": {
   "display_name": "tlwxgb",
   "language": "python",
   "name": "python3"
  },
  "language_info": {
   "codemirror_mode": {
    "name": "ipython",
    "version": 3
   },
   "file_extension": ".py",
   "mimetype": "text/x-python",
   "name": "python",
   "nbconvert_exporter": "python",
   "pygments_lexer": "ipython3",
   "version": "3.11.2"
  },
  "orig_nbformat": 4
 },
 "nbformat": 4,
 "nbformat_minor": 2
}
