{
 "cells": [
  {
   "cell_type": "code",
   "execution_count": 3,
   "metadata": {},
   "outputs": [],
   "source": [
    "import numpy as np\n",
    "from random import uniform"
   ]
  },
  {
   "cell_type": "code",
   "execution_count": 11,
   "metadata": {},
   "outputs": [
    {
     "data": {
      "text/plain": [
       "array([[ 1.   ,  0.69 , -0.073],\n",
       "       [ 0.69 ,  1.   ,  0.437],\n",
       "       [-0.073,  0.437,  1.   ]])"
      ]
     },
     "execution_count": 11,
     "metadata": {},
     "output_type": "execute_result"
    }
   ],
   "source": [
    "base_feature_count = 3\n",
    "matrix = [[0] * base_feature_count for _ in range(base_feature_count)]\n",
    "\n",
    "for i in range(base_feature_count):\n",
    "            for j in range(i + 1):\n",
    "                if i == j:\n",
    "                    matrix[i][j] = 1\n",
    "                else:\n",
    "                    matrix[i][j] = round(uniform(-0.7, 0.7), 3)\n",
    "                    matrix[j][i] = matrix[i][j]\n",
    "\n",
    "arr = np.array(matrix)\n",
    "arr"
   ]
  },
  {
   "cell_type": "code",
   "execution_count": 16,
   "metadata": {},
   "outputs": [
    {
     "data": {
      "text/plain": [
       "array([[1.    , 1.    , 0.    ],\n",
       "       [1.    , 1.    , 0.6555],\n",
       "       [0.    , 0.6555, 1.    ]])"
      ]
     },
     "execution_count": 16,
     "metadata": {},
     "output_type": "execute_result"
    }
   ],
   "source": [
    "def change_cov(factor:float)\n",
    "\n"
   ]
  }
 ],
 "metadata": {
  "kernelspec": {
   "display_name": "tlwxgb",
   "language": "python",
   "name": "python3"
  },
  "language_info": {
   "codemirror_mode": {
    "name": "ipython",
    "version": 3
   },
   "file_extension": ".py",
   "mimetype": "text/x-python",
   "name": "python",
   "nbconvert_exporter": "python",
   "pygments_lexer": "ipython3",
   "version": "3.11.2"
  },
  "orig_nbformat": 4
 },
 "nbformat": 4,
 "nbformat_minor": 2
}
